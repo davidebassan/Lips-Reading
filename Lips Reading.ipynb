{
 "cells": [
  {
   "cell_type": "markdown",
   "source": [
    "# Lips Reading VCS Project\n",
    "\n",
    "***\n",
    "<b>Goal: </b> The aim of this project is to predict words or phrases from videos.\n",
    "              This task can be solved with both machine learning and deep learning techniques\n",
    "              (for example, you can use a CNN to extract features from video frames\n",
    "               and process extracted features with an RNN).\n",
    "               Pre-trained CNNs on human faces could improve classification results.\n",
    "               Data augmentation techniques should be applied to increase the number of samples.\n",
    "\n",
    "Baldo Massimiliano,\n",
    "Bassan Davide,\n",
    "Panighel Cristiano."
   ],
   "metadata": {
    "collapsed": false
   }
  },
  {
   "cell_type": "code",
   "execution_count": 1,
   "outputs": [],
   "source": [
    "import cv2\n",
    "import dlib\n",
    "import os\n",
    "from tqdm.auto import tqdm\n",
    "from matplotlib import pyplot as plt"
   ],
   "metadata": {
    "collapsed": false,
    "pycharm": {
     "name": "#%%\n"
    }
   }
  },
  {
   "cell_type": "markdown",
   "source": [
    "<a id=\"test-flag\"></a>"
   ],
   "metadata": {
    "collapsed": false,
    "pycharm": {
     "name": "#%% md\n"
    }
   }
  },
  {
   "cell_type": "code",
   "execution_count": 2,
   "outputs": [],
   "source": [
    "test = True"
   ],
   "metadata": {
    "collapsed": false,
    "pycharm": {
     "name": "#%%\n"
    }
   }
  },
  {
   "cell_type": "markdown",
   "source": [
    "### The Dataset\n",
    "\n",
    "The choosen dataset is __[MIRACL-VC1](https://sites.google.com/site/achrafbenhamadou/-datasets/miracl-vc1)__\n",
    "that contains frames labelled for words and sentences\n",
    "\n",
    "The words and sentences are\n",
    "![dataset structure](\"img/dataset_structure.png\")"
   ],
   "metadata": {
    "collapsed": false,
    "pycharm": {
     "name": "#%% md\n"
    }
   }
  },
  {
   "cell_type": "code",
   "execution_count": 3,
   "outputs": [],
   "source": [
    "if test:\n",
    "    people = ['F01','F02','F04','F05','F06','F07','F08','F09', 'F10','F11','M01','M02','M04','M07','M08']\n",
    "    data_types = ['words', 'sentences']\n",
    "    folder_enum = ['01','02','03','04','05','06','07','08', '09', '10']\n",
    "    instances = ['01','02','03','04','05','06','07','08', '09', '10']\n",
    "    words = ['Begin', 'Choose', 'Connection', 'Navigation', 'Next', 'Previous', 'Start', 'Stop', 'Hello', 'Web']\n",
    "else:\n",
    "    people = ['F01','F02']\n",
    "    data_types = ['words']\n",
    "    folder_enum = ['01','02','03','04','05','06','07','08', '09', '10']\n",
    "    instances = ['01']\n",
    "    words = ['Begin', 'Choose', 'Connection', 'Navigation', 'Next', 'Previous', 'Start', 'Stop', 'Hello', 'Web']"
   ],
   "metadata": {
    "collapsed": false,
    "pycharm": {
     "name": "#%%\n"
    }
   }
  },
  {
   "cell_type": "markdown",
   "source": [
    "### Mouth Detection\n",
    "\n",
    "For this task we have tried two solutions, using Open CV and using dlib, two important libraries in Python.\n",
    "Both gives the possibility to use pre-trained models to recognize a mouth."
   ],
   "metadata": {
    "collapsed": false,
    "pycharm": {
     "name": "#%% md\n"
    }
   }
  },
  {
   "cell_type": "markdown",
   "source": [
    "#### Mouth detection using OpenCV"
   ],
   "metadata": {
    "collapsed": false,
    "pycharm": {
     "name": "#%% md\n"
    }
   }
  },
  {
   "cell_type": "code",
   "execution_count": 4,
   "outputs": [],
   "source": [
    "def mouth_detection_cv(path):\n",
    "    face_cascade = cv2.CascadeClassifier('preprocessing/cascade_files/haarcascade_frontalface_default.xml')\n",
    "    mouth_cascade = cv2.CascadeClassifier('preprocessing/cascade_files/haarcascade_mcs_mouth.xml')\n",
    "\n",
    "    if mouth_cascade.empty():\n",
    "      raise IOError('Unable to load the mouth cascade classifier xml file')\n",
    "    img = cv2.imread(path)\n",
    "    face_rects = face_cascade.detectMultiScale(img, scaleFactor=1.1, minNeighbors=3)\n",
    "\n",
    "    for(x,y,w,h) in face_rects:\n",
    "        cv2.rectangle(img, (x,y), (x+w, y+h), (0,0,255), 2)\n",
    "        roi = img[y:y+h, x:x+w]\n",
    "        mouth_rects = mouth_cascade.detectMultiScale(roi, scaleFactor=1.1, minNeighbors=9)\n",
    "        for(mx, my, mw, mh) in mouth_rects:\n",
    "            my = int(my - 0.25*mh)\n",
    "            roi_mouth = img[y+my:y+my+mh, x+mx:x+mx+mw]\n",
    "            return roi_mouth"
   ],
   "metadata": {
    "collapsed": false,
    "pycharm": {
     "name": "#%%\n"
    }
   }
  },
  {
   "cell_type": "markdown",
   "source": [
    "we have also tried to tune the parameters of the function `detectMultiScale`, in particular `scaleFactor` and\n",
    "`minNeighbors`, but the shown values are the best found.\n",
    "\n",
    "For the face recognition we haven't found so many problems, but for the mouth recognition, probably because of\n",
    "the size of the image, the detection didn't work so well.\n",
    "\n",
    "#### Mouth detection using dlib"
   ],
   "metadata": {
    "collapsed": false,
    "pycharm": {
     "name": "#%% md\n"
    }
   }
  },
  {
   "cell_type": "code",
   "execution_count": 5,
   "outputs": [],
   "source": [
    "def mouth_detection_dlib(path):\n",
    "    face_detector = dlib.get_frontal_face_detector()\n",
    "\n",
    "    p = \"preprocessing/cascade_files/shape_predictor_68_face_landmarks.dat\"\n",
    "\n",
    "    lip_predictor = dlib.shape_predictor(p)\n",
    "    img = cv2.imread(path)\n",
    "    gray = cv2.cvtColor(img, cv2.COLOR_BGR2GRAY)\n",
    "\n",
    "    faces = face_detector(gray)\n",
    "\n",
    "    for face in faces:\n",
    "        x, y, w, h = face.left(), face.top(), face.width(), face.height()\n",
    "        rect = dlib.rectangle(x, y, x + w, y + h)\n",
    "\n",
    "        shape = lip_predictor(gray, rect)\n",
    "        lip_points = []\n",
    "        for i in range(48, 61):\n",
    "            lip_points.append([shape.part(i).x, shape.part(i).y])\n",
    "\n",
    "        x_min = int(min([p[0] for p in lip_points]))\n",
    "        x_max = int(max([p[0] for p in lip_points]))\n",
    "        y_min = int(min([p[1] for p in lip_points]))\n",
    "        y_max = int(max([p[1] for p in lip_points]))\n",
    "\n",
    "        lip_cropped = img[y_min:y_max, x_min:x_max]\n",
    "        return lip_cropped"
   ],
   "metadata": {
    "collapsed": false,
    "pycharm": {
     "name": "#%%\n"
    }
   }
  },
  {
   "cell_type": "markdown",
   "source": [
    "#### dlib vs cv2\n",
    "Just to give an idea of our assumption, this is the representation on the same image\n",
    "of the mouth detection using this two methods."
   ],
   "metadata": {
    "collapsed": false
   }
  },
  {
   "cell_type": "code",
   "execution_count": 6,
   "outputs": [
    {
     "data": {
      "text/plain": "<Figure size 432x288 with 2 Axes>",
      "image/png": "[encoded data removed]"
     },
     "metadata": {
      "needs_background": "light"
     },
     "output_type": "display_data"
    }
   ],
   "source": [
    "img_path = \"MIRACL-VC1/F01/words/01/01/color_001.jpg\"\n",
    "roi_dlib = mouth_detection_dlib(img_path)\n",
    "roi_cv2 = mouth_detection_cv(img_path)\n",
    "\n",
    "plt.subplot(1,2,1)\n",
    "plt.imshow(roi_dlib)\n",
    "plt.title(\"dlib\")\n",
    "plt.subplot(1,2,2)\n",
    "plt.imshow(roi_cv2)\n",
    "plt.title(\"cv2\")\n",
    "plt.show()"
   ],
   "metadata": {
    "collapsed": false,
    "pycharm": {
     "name": "#%%\n"
    }
   }
  },
  {
   "cell_type": "markdown",
   "source": [
    "#### Creation of Cropped Version of the Dataset\n",
    "Once we have noted that OpenCV has less accuracy than dlib we have chosen\n",
    "to go on with dlib for creating a new version of each frame that includes only the mouth."
   ],
   "metadata": {
    "collapsed": false,
    "pycharm": {
     "name": "#%% md\n"
    }
   }
  },
  {
   "cell_type": "code",
   "execution_count": 7,
   "outputs": [],
   "source": [
    "def crop_all():\n",
    "    for person in tqdm(people, desc='Main', leave=True):\n",
    "        for data_type in tqdm(data_types, desc='Type', leave=False):\n",
    "            for enum in tqdm(folder_enum, desc='Label', leave=False):\n",
    "                for instance in tqdm(instances, desc='Instance', leave=False):\n",
    "                    path = \"../MIRACL-VC1/\" + person + \"/\" + data_type + \"/\" + enum + \"/\" + instance\n",
    "                    images = os.listdir(path)\n",
    "                    for image in tqdm(images, desc='Frame', leave=False):\n",
    "                        if image.startswith('color'):\n",
    "                            file_name = \"../MIRACL-VC1/\" + person + \"/\" + \\\n",
    "                                        str(data_type) + \"/\" + str(enum) + \"/\" + \\\n",
    "                                        str(instance) + \"/\" + \"cropped_\" + str(image)\n",
    "\n",
    "                            cropped = mouth_detection_dlib(str(path + \"/\" + str(image)))\n",
    "                            # UNCOMMENT ME\n",
    "                            #cv2.imwrite(file_name, cropped)"
   ],
   "metadata": {
    "collapsed": false,
    "pycharm": {
     "name": "#%%\n"
    }
   }
  },
  {
   "cell_type": "markdown",
   "source": [
    "<div class=\"alert alert-block alert-warning\">\n",
    "    <b>Warning:</b> This statement can take a long time to execute, in order to see the results I suggest\n",
    "    to set the test flag to true.\n",
    "</div>\n",
    "<br />\n",
    "\n",
    "If you want to change the flag simply change the value [test](#test-flag)`=True`"
   ],
   "metadata": {
    "collapsed": false,
    "pycharm": {
     "name": "#%% md\n"
    }
   }
  },
  {
   "cell_type": "code",
   "source": [
    "#crop_all()"
   ],
   "metadata": {
    "collapsed": false,
    "pycharm": {
     "name": "#%%\n"
    }
   },
   "execution_count": 8,
   "outputs": []
  },
  {
   "cell_type": "code",
   "execution_count": null,
   "outputs": [],
   "source": [],
   "metadata": {
    "collapsed": false,
    "pycharm": {
     "name": "#%%\n"
    }
   }
  }
 ],
 "metadata": {
  "kernelspec": {
   "display_name": "Python 3",
   "language": "python",
   "name": "python3"
  },
  "language_info": {
   "codemirror_mode": {
    "name": "ipython",
    "version": 2
   },
   "file_extension": ".py",
   "mimetype": "text/x-python",
   "name": "python",
   "nbconvert_exporter": "python",
   "pygments_lexer": "ipython2",
   "version": "2.7.6"
  }
 },
 "nbformat": 4,
 "nbformat_minor": 0
}