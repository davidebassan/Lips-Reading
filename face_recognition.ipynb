{
 "cells": [
  {
   "cell_type": "markdown",
   "source": [
    "Import MIRACL-VC1 Dataset (needs os, cv2)"
   ],
   "metadata": {
    "collapsed": false
   }
  },
  {
   "cell_type": "code",
   "execution_count": 1,
   "outputs": [
    {
     "name": "stdout",
     "output_type": "stream",
     "text": [
      "Perform F01 1/15\n",
      "Perform F02 2/15\n",
      "Perform F04 3/15\n",
      "Perform F05 4/15\n",
      "Perform F06 5/15\n",
      "Perform F07 6/15\n",
      "Perform F08 7/15\n",
      "Perform F09 8/15\n",
      "Perform F10 9/15\n",
      "Perform F11 10/15\n",
      "Perform M01 11/15\n",
      "Perform M02 12/15\n",
      "Perform M04 13/15\n",
      "Perform M07 14/15\n",
      "Perform M08 15/15\n"
     ]
    }
   ],
   "source": [
    "from MiraclVc1 import MiraclVc1 as mcv\n",
    "\n",
    "person_object = mcv.load_dataset(\"words\", \"MIRACL-VC1\")"
   ],
   "metadata": {
    "collapsed": false,
    "pycharm": {
     "name": "#%%\n"
    }
   }
  }
 ],
 "metadata": {
  "kernelspec": {
   "display_name": "Python 3",
   "language": "python",
   "name": "python3"
  },
  "language_info": {
   "codemirror_mode": {
    "name": "ipython",
    "version": 2
   },
   "file_extension": ".py",
   "mimetype": "text/x-python",
   "name": "python",
   "nbconvert_exporter": "python",
   "pygments_lexer": "ipython2",
   "version": "2.7.6"
  }
 },
 "nbformat": 4,
 "nbformat_minor": 0
}