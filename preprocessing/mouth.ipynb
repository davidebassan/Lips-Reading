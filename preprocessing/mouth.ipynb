{
 "cells": [
  {
   "cell_type": "code",
   "execution_count": 1,
   "metadata": {
    "collapsed": true
   },
   "outputs": [],
   "source": [
    "from MiraclVc1 import MiraclVc1 as mcv\n",
    "from matplotlib import pyplot as plt\n",
    "import cv2\n",
    "import os\n",
    "from utils import get_mouth"
   ]
  },
  {
   "cell_type": "code",
   "execution_count": 2,
   "outputs": [
    {
     "name": "stdout",
     "output_type": "stream",
     "text": [
      "Perform F01 1/15\n",
      "Perform F02 2/15\n"
     ]
    }
   ],
   "source": [
    "face_cascade = cv2.CascadeClassifier('../cascade_files/haarcascade_frontalface_default.xml')\n",
    "mouth_cascade = cv2.CascadeClassifier('../cascade_files/haarcascade_mcs_mouth.xml')\n",
    "\n",
    "\n",
    "mode = 'words'\n",
    "if mode != \"words\" and mode != \"phrases\":\n",
    "  raise ValueError(\"Type must be words or phrases\")\n",
    "\n",
    "\n",
    "person_object = mcv.load_dataset(mode, \"../MIRACL-VC1\")\n",
    "\n",
    "if mouth_cascade.empty() or face_cascade.empty():\n",
    "  raise IOError('Unable to load the cascade classifier xml file')"
   ],
   "metadata": {
    "collapsed": false,
    "pycharm": {
     "name": "#%%\n"
    }
   }
  },
  {
   "cell_type": "code",
   "execution_count": 3,
   "outputs": [
    {
     "ename": "OSError",
     "evalue": "Unable to load the mouth cascade classifier xml file",
     "output_type": "error",
     "traceback": [
      "\u001B[1;31m---------------------------------------------------------------------------\u001B[0m",
      "\u001B[1;31mOSError\u001B[0m                                   Traceback (most recent call last)",
      "\u001B[1;32m<ipython-input-3-be89dc0f2d4b>\u001B[0m in \u001B[0;36m<module>\u001B[1;34m\u001B[0m\n\u001B[0;32m      9\u001B[0m         \u001B[0mos\u001B[0m\u001B[1;33m.\u001B[0m\u001B[0mmakedirs\u001B[0m\u001B[1;33m(\u001B[0m\u001B[1;34m'dataset/'\u001B[0m \u001B[1;33m+\u001B[0m \u001B[0mmode\u001B[0m \u001B[1;33m+\u001B[0m \u001B[1;34m\"/\"\u001B[0m\u001B[1;33m)\u001B[0m\u001B[1;33m\u001B[0m\u001B[1;33m\u001B[0m\u001B[0m\n\u001B[0;32m     10\u001B[0m       \u001B[0mfile_name\u001B[0m \u001B[1;33m=\u001B[0m \u001B[0mimg\u001B[0m\u001B[1;33m.\u001B[0m\u001B[0mlabel\u001B[0m \u001B[1;33m+\u001B[0m \u001B[1;34m\"_\"\u001B[0m \u001B[1;33m+\u001B[0m \u001B[0mperson\u001B[0m\u001B[1;33m.\u001B[0m\u001B[0mid\u001B[0m \u001B[1;33m+\u001B[0m \u001B[1;34m\"_\"\u001B[0m \u001B[1;33m+\u001B[0m \u001B[0mframe\u001B[0m\u001B[1;33m.\u001B[0m\u001B[0mversion\u001B[0m \u001B[1;33m+\u001B[0m \u001B[1;34m\"_\"\u001B[0m \u001B[1;33m+\u001B[0m \u001B[0mframe\u001B[0m\u001B[1;33m.\u001B[0m\u001B[0mindex\u001B[0m\u001B[1;33m\u001B[0m\u001B[1;33m\u001B[0m\u001B[0m\n\u001B[1;32m---> 11\u001B[1;33m       \u001B[0mmouth\u001B[0m \u001B[1;33m=\u001B[0m \u001B[0mget_mouth\u001B[0m\u001B[1;33m(\u001B[0m\u001B[0mframe\u001B[0m\u001B[1;33m.\u001B[0m\u001B[0mframe\u001B[0m\u001B[1;33m)\u001B[0m\u001B[1;33m\u001B[0m\u001B[1;33m\u001B[0m\u001B[0m\n\u001B[0m\u001B[0;32m     12\u001B[0m       \u001B[0mplt\u001B[0m\u001B[1;33m.\u001B[0m\u001B[0mimshow\u001B[0m\u001B[1;33m(\u001B[0m\u001B[0mmouth\u001B[0m\u001B[1;33m)\u001B[0m\u001B[1;33m\u001B[0m\u001B[1;33m\u001B[0m\u001B[0m\n\u001B[0;32m     13\u001B[0m       \u001B[1;32mbreak\u001B[0m\u001B[1;33m;\u001B[0m\u001B[1;33m\u001B[0m\u001B[1;33m\u001B[0m\u001B[0m\n",
      "\u001B[1;32mE:\\Documenti\\Università\\Vision And Cognitive Systems\\project-vcs\\utils.py\u001B[0m in \u001B[0;36mget_mouth\u001B[1;34m(img, face_cascade_path, mouth_cascade_path)\u001B[0m\n\u001B[0;32m     16\u001B[0m \u001B[1;33m\u001B[0m\u001B[0m\n\u001B[0;32m     17\u001B[0m     \u001B[1;32mif\u001B[0m \u001B[0mmouth_cascade\u001B[0m\u001B[1;33m.\u001B[0m\u001B[0mempty\u001B[0m\u001B[1;33m(\u001B[0m\u001B[1;33m)\u001B[0m\u001B[1;33m:\u001B[0m\u001B[1;33m\u001B[0m\u001B[1;33m\u001B[0m\u001B[0m\n\u001B[1;32m---> 18\u001B[1;33m         \u001B[1;32mraise\u001B[0m \u001B[0mIOError\u001B[0m\u001B[1;33m(\u001B[0m\u001B[1;34m'Unable to load the mouth cascade classifier xml file'\u001B[0m\u001B[1;33m)\u001B[0m\u001B[1;33m\u001B[0m\u001B[1;33m\u001B[0m\u001B[0m\n\u001B[0m\u001B[0;32m     19\u001B[0m \u001B[1;33m\u001B[0m\u001B[0m\n\u001B[0;32m     20\u001B[0m     \u001B[1;31m#img_path = \"MIRACL-VC1/F01/words/01/01/color_001.jpg\"\u001B[0m\u001B[1;33m\u001B[0m\u001B[1;33m\u001B[0m\u001B[1;33m\u001B[0m\u001B[0m\n",
      "\u001B[1;31mOSError\u001B[0m: Unable to load the mouth cascade classifier xml file"
     ]
    }
   ],
   "source": [
    "TEST = True\n",
    "\n",
    "\n",
    "\n",
    "for i, person in enumerate(person_object):\n",
    "  for img in person.imgs:\n",
    "    for frame in img.frame:\n",
    "      if not os.path.exists('dataset/' + mode + \"/\"):\n",
    "        os.makedirs('dataset/' + mode + \"/\")\n",
    "      file_name = img.label + \"_\" + person.id + \"_\" + frame.version + \"_\" + frame.index\n",
    "      mouth = get_mouth(frame.frame)\n",
    "      plt.imshow(mouth)\n",
    "      break;"
   ],
   "metadata": {
    "collapsed": false,
    "pycharm": {
     "name": "#%%\n"
    }
   }
  },
  {
   "cell_type": "code",
   "execution_count": null,
   "outputs": [],
   "source": [],
   "metadata": {
    "collapsed": false,
    "pycharm": {
     "name": "#%%\n"
    }
   }
  }
 ],
 "metadata": {
  "kernelspec": {
   "display_name": "Python 3",
   "language": "python",
   "name": "python3"
  },
  "language_info": {
   "codemirror_mode": {
    "name": "ipython",
    "version": 2
   },
   "file_extension": ".py",
   "mimetype": "text/x-python",
   "name": "python",
   "nbconvert_exporter": "python",
   "pygments_lexer": "ipython2",
   "version": "2.7.6"
  }
 },
 "nbformat": 4,
 "nbformat_minor": 0
}